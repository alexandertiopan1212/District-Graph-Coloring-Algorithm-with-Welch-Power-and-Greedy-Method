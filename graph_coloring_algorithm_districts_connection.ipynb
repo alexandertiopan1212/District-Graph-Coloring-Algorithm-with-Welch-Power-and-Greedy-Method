{
 "cells": [
  {
   "cell_type": "markdown",
   "metadata": {
    "id": "fNqstuQalkjm"
   },
   "source": [
    "# Graph Coloring Method of Districts Connection"
   ]
  },
  {
   "cell_type": "markdown",
   "metadata": {},
   "source": [
    "### Project Overview"
   ]
  },
  {
   "cell_type": "markdown",
   "metadata": {},
   "source": [
    "The goal of this project is to assign colors to different districts in a map such that no two adjacent districts share the same color. This problem is known as graph coloring and can be visualized using the NetworkX library in Python."
   ]
  },
  {
   "cell_type": "markdown",
   "metadata": {},
   "source": [
    "### Import Libraries"
   ]
  },
  {
   "cell_type": "code",
   "execution_count": 1,
   "metadata": {},
   "outputs": [],
   "source": [
    "import networkx as nx\n",
    "import numpy as np\n",
    "import matplotlib.pyplot as plt\n",
    "import pandas as pd\n",
    "from sklearn.feature_extraction.text import CountVectorizer\n",
    "%matplotlib inline\n",
    "np.set_printoptions(threshold=np.inf)"
   ]
  },
  {
   "cell_type": "markdown",
   "metadata": {},
   "source": [
    "### Dataset Input"
   ]
  },
  {
   "cell_type": "code",
   "execution_count": 2,
   "metadata": {
    "id": "vZb1ajJ7lk_U"
   },
   "outputs": [],
   "source": [
    "df = pd.read_excel('./Data.xlsx')"
   ]
  },
  {
   "cell_type": "markdown",
   "metadata": {},
   "source": [
    "Based on this structure, the dataset can be used to construct a graph where the \"Kalurahan\" entities are nodes, and the edges represent connections between these nodes. Each row specifies a connection between two nodes, identified by their codes."
   ]
  },
  {
   "cell_type": "code",
   "execution_count": 3,
   "metadata": {
    "colab": {
     "base_uri": "https://localhost:8080/",
     "height": 424
    },
    "id": "-VSKdUBTlvi-",
    "outputId": "3497bacc-52b9-4e2f-a9be-30c2f4ac6bda"
   },
   "outputs": [
    {
     "data": {
      "text/html": [
       "<div>\n",
       "<style scoped>\n",
       "    .dataframe tbody tr th:only-of-type {\n",
       "        vertical-align: middle;\n",
       "    }\n",
       "\n",
       "    .dataframe tbody tr th {\n",
       "        vertical-align: top;\n",
       "    }\n",
       "\n",
       "    .dataframe thead th {\n",
       "        text-align: right;\n",
       "    }\n",
       "</style>\n",
       "<table border=\"1\" class=\"dataframe\">\n",
       "  <thead>\n",
       "    <tr style=\"text-align: right;\">\n",
       "      <th></th>\n",
       "      <th>Kode Kalurahan</th>\n",
       "      <th>Kalurahan</th>\n",
       "      <th>a_i</th>\n",
       "      <th>a_j</th>\n",
       "    </tr>\n",
       "  </thead>\n",
       "  <tbody>\n",
       "    <tr>\n",
       "      <th>0</th>\n",
       "      <td>1</td>\n",
       "      <td>Argodadi</td>\n",
       "      <td>1</td>\n",
       "      <td>3</td>\n",
       "    </tr>\n",
       "    <tr>\n",
       "      <th>1</th>\n",
       "      <td>2</td>\n",
       "      <td>Argomulyo</td>\n",
       "      <td>1</td>\n",
       "      <td>4</td>\n",
       "    </tr>\n",
       "    <tr>\n",
       "      <th>2</th>\n",
       "      <td>3</td>\n",
       "      <td>Argorejo</td>\n",
       "      <td>1</td>\n",
       "      <td>70</td>\n",
       "    </tr>\n",
       "    <tr>\n",
       "      <th>3</th>\n",
       "      <td>4</td>\n",
       "      <td>Argosari</td>\n",
       "      <td>2</td>\n",
       "      <td>3</td>\n",
       "    </tr>\n",
       "    <tr>\n",
       "      <th>4</th>\n",
       "      <td>5</td>\n",
       "      <td>Bangunharjo</td>\n",
       "      <td>2</td>\n",
       "      <td>4</td>\n",
       "    </tr>\n",
       "    <tr>\n",
       "      <th>...</th>\n",
       "      <td>...</td>\n",
       "      <td>...</td>\n",
       "      <td>...</td>\n",
       "      <td>...</td>\n",
       "    </tr>\n",
       "    <tr>\n",
       "      <th>70</th>\n",
       "      <td>71</td>\n",
       "      <td>Wijirejo</td>\n",
       "      <td>17</td>\n",
       "      <td>56</td>\n",
       "    </tr>\n",
       "    <tr>\n",
       "      <th>71</th>\n",
       "      <td>72</td>\n",
       "      <td>Wirokerten</td>\n",
       "      <td>17</td>\n",
       "      <td>66</td>\n",
       "    </tr>\n",
       "    <tr>\n",
       "      <th>72</th>\n",
       "      <td>73</td>\n",
       "      <td>Wonokromo</td>\n",
       "      <td>17</td>\n",
       "      <td>71</td>\n",
       "    </tr>\n",
       "    <tr>\n",
       "      <th>73</th>\n",
       "      <td>74</td>\n",
       "      <td>Wonolelo</td>\n",
       "      <td>18</td>\n",
       "      <td>24</td>\n",
       "    </tr>\n",
       "    <tr>\n",
       "      <th>74</th>\n",
       "      <td>75</td>\n",
       "      <td>Wukirsari</td>\n",
       "      <td>18</td>\n",
       "      <td>25</td>\n",
       "    </tr>\n",
       "  </tbody>\n",
       "</table>\n",
       "<p>75 rows × 4 columns</p>\n",
       "</div>"
      ],
      "text/plain": [
       "    Kode Kalurahan   Kalurahan   a_i  a_j\n",
       "0                1     Argodadi    1    3\n",
       "1                2    Argomulyo    1    4\n",
       "2                3     Argorejo    1   70\n",
       "3                4     Argosari    2    3\n",
       "4                5  Bangunharjo    2    4\n",
       "..             ...          ...  ...  ...\n",
       "70              71     Wijirejo   17   56\n",
       "71              72   Wirokerten   17   66\n",
       "72              73    Wonokromo   17   71\n",
       "73              74     Wonolelo   18   24\n",
       "74              75    Wukirsari   18   25\n",
       "\n",
       "[75 rows x 4 columns]"
      ]
     },
     "execution_count": 3,
     "metadata": {},
     "output_type": "execute_result"
    }
   ],
   "source": [
    "df.head(188)"
   ]
  },
  {
   "cell_type": "markdown",
   "metadata": {},
   "source": [
    "### Start Graph"
   ]
  },
  {
   "cell_type": "markdown",
   "metadata": {},
   "source": [
    "Adding pairs of points to the graph from the available data"
   ]
  },
  {
   "cell_type": "code",
   "execution_count": 4,
   "metadata": {
    "id": "BmsgaUA_lz8p"
   },
   "outputs": [],
   "source": [
    "graph = nx.Graph()"
   ]
  },
  {
   "cell_type": "code",
   "execution_count": 5,
   "metadata": {
    "id": "zBeoA2fSl2i5"
   },
   "outputs": [],
   "source": [
    "graph = nx.from_pandas_edgelist(df,source=\"a_i\",target=\"a_j\")"
   ]
  },
  {
   "cell_type": "code",
   "execution_count": 6,
   "metadata": {
    "colab": {
     "base_uri": "https://localhost:8080/"
    },
    "id": "_CYX_mAUl4c7",
    "outputId": "514c4368-1793-4a44-b4d6-d7c367d445b8"
   },
   "outputs": [
    {
     "data": {
      "text/plain": [
       "65"
      ]
     },
     "execution_count": 6,
     "metadata": {},
     "output_type": "execute_result"
    }
   ],
   "source": [
    "len(graph.nodes())"
   ]
  },
  {
   "cell_type": "code",
   "execution_count": 7,
   "metadata": {
    "colab": {
     "base_uri": "https://localhost:8080/"
    },
    "id": "j7HP2RdHl6EQ",
    "outputId": "a87424f3-1f41-4a4a-97e6-d5c5eb8350ae"
   },
   "outputs": [
    {
     "data": {
      "text/plain": [
       "DegreeView({1: 3, 3: 4, 4: 3, 70: 4, 2: 4, 6: 8, 5: 4, 33: 1, 57: 1, 61: 1, 73: 1, 8: 6, 19: 3, 37: 2, 46: 1, 58: 1, 64: 1, 7: 2, 9: 3, 72: 2, 32: 2, 41: 2, 69: 1, 40: 1, 10: 7, 22: 1, 38: 1, 43: 1, 49: 1, 54: 1, 74: 1, 75: 1, 11: 6, 24: 2, 26: 1, 36: 1, 51: 1, 52: 1, 55: 1, 12: 6, 16: 6, 30: 3, 47: 3, 63: 2, 66: 2, 68: 2, 13: 3, 23: 1, 29: 1, 59: 1, 14: 7, 34: 1, 35: 1, 44: 1, 62: 1, 65: 1, 15: 3, 50: 2, 39: 1, 17: 8, 28: 1, 56: 1, 71: 1, 18: 2, 25: 1})"
      ]
     },
     "execution_count": 7,
     "metadata": {},
     "output_type": "execute_result"
    }
   ],
   "source": [
    "nx.degree(graph)"
   ]
  },
  {
   "cell_type": "code",
   "execution_count": 8,
   "metadata": {
    "colab": {
     "base_uri": "https://localhost:8080/",
     "height": 1000
    },
    "id": "N-gw6sFLl7wi",
    "outputId": "34dc034c-83e6-4797-9e4b-11c1594ff7ae"
   },
   "outputs": [
    {
     "data": {
      "text/html": [
       "<div>\n",
       "<style scoped>\n",
       "    .dataframe tbody tr th:only-of-type {\n",
       "        vertical-align: middle;\n",
       "    }\n",
       "\n",
       "    .dataframe tbody tr th {\n",
       "        vertical-align: top;\n",
       "    }\n",
       "\n",
       "    .dataframe thead th {\n",
       "        text-align: right;\n",
       "    }\n",
       "</style>\n",
       "<table border=\"1\" class=\"dataframe\">\n",
       "  <thead>\n",
       "    <tr style=\"text-align: right;\">\n",
       "      <th></th>\n",
       "      <th>0</th>\n",
       "      <th>1</th>\n",
       "    </tr>\n",
       "  </thead>\n",
       "  <tbody>\n",
       "    <tr>\n",
       "      <th>0</th>\n",
       "      <td>1</td>\n",
       "      <td>3</td>\n",
       "    </tr>\n",
       "    <tr>\n",
       "      <th>1</th>\n",
       "      <td>2</td>\n",
       "      <td>4</td>\n",
       "    </tr>\n",
       "    <tr>\n",
       "      <th>2</th>\n",
       "      <td>3</td>\n",
       "      <td>4</td>\n",
       "    </tr>\n",
       "    <tr>\n",
       "      <th>3</th>\n",
       "      <td>4</td>\n",
       "      <td>3</td>\n",
       "    </tr>\n",
       "    <tr>\n",
       "      <th>4</th>\n",
       "      <td>5</td>\n",
       "      <td>4</td>\n",
       "    </tr>\n",
       "    <tr>\n",
       "      <th>5</th>\n",
       "      <td>6</td>\n",
       "      <td>8</td>\n",
       "    </tr>\n",
       "    <tr>\n",
       "      <th>6</th>\n",
       "      <td>7</td>\n",
       "      <td>2</td>\n",
       "    </tr>\n",
       "    <tr>\n",
       "      <th>7</th>\n",
       "      <td>8</td>\n",
       "      <td>6</td>\n",
       "    </tr>\n",
       "    <tr>\n",
       "      <th>8</th>\n",
       "      <td>9</td>\n",
       "      <td>3</td>\n",
       "    </tr>\n",
       "    <tr>\n",
       "      <th>9</th>\n",
       "      <td>10</td>\n",
       "      <td>7</td>\n",
       "    </tr>\n",
       "    <tr>\n",
       "      <th>10</th>\n",
       "      <td>11</td>\n",
       "      <td>6</td>\n",
       "    </tr>\n",
       "    <tr>\n",
       "      <th>11</th>\n",
       "      <td>12</td>\n",
       "      <td>6</td>\n",
       "    </tr>\n",
       "    <tr>\n",
       "      <th>12</th>\n",
       "      <td>13</td>\n",
       "      <td>3</td>\n",
       "    </tr>\n",
       "    <tr>\n",
       "      <th>13</th>\n",
       "      <td>14</td>\n",
       "      <td>7</td>\n",
       "    </tr>\n",
       "    <tr>\n",
       "      <th>14</th>\n",
       "      <td>15</td>\n",
       "      <td>3</td>\n",
       "    </tr>\n",
       "    <tr>\n",
       "      <th>15</th>\n",
       "      <td>16</td>\n",
       "      <td>6</td>\n",
       "    </tr>\n",
       "    <tr>\n",
       "      <th>16</th>\n",
       "      <td>17</td>\n",
       "      <td>8</td>\n",
       "    </tr>\n",
       "    <tr>\n",
       "      <th>17</th>\n",
       "      <td>18</td>\n",
       "      <td>2</td>\n",
       "    </tr>\n",
       "    <tr>\n",
       "      <th>18</th>\n",
       "      <td>19</td>\n",
       "      <td>3</td>\n",
       "    </tr>\n",
       "    <tr>\n",
       "      <th>19</th>\n",
       "      <td>22</td>\n",
       "      <td>1</td>\n",
       "    </tr>\n",
       "    <tr>\n",
       "      <th>20</th>\n",
       "      <td>23</td>\n",
       "      <td>1</td>\n",
       "    </tr>\n",
       "    <tr>\n",
       "      <th>21</th>\n",
       "      <td>24</td>\n",
       "      <td>2</td>\n",
       "    </tr>\n",
       "    <tr>\n",
       "      <th>22</th>\n",
       "      <td>25</td>\n",
       "      <td>1</td>\n",
       "    </tr>\n",
       "    <tr>\n",
       "      <th>23</th>\n",
       "      <td>26</td>\n",
       "      <td>1</td>\n",
       "    </tr>\n",
       "    <tr>\n",
       "      <th>24</th>\n",
       "      <td>28</td>\n",
       "      <td>1</td>\n",
       "    </tr>\n",
       "    <tr>\n",
       "      <th>25</th>\n",
       "      <td>29</td>\n",
       "      <td>1</td>\n",
       "    </tr>\n",
       "    <tr>\n",
       "      <th>26</th>\n",
       "      <td>30</td>\n",
       "      <td>3</td>\n",
       "    </tr>\n",
       "    <tr>\n",
       "      <th>27</th>\n",
       "      <td>32</td>\n",
       "      <td>2</td>\n",
       "    </tr>\n",
       "    <tr>\n",
       "      <th>28</th>\n",
       "      <td>33</td>\n",
       "      <td>1</td>\n",
       "    </tr>\n",
       "    <tr>\n",
       "      <th>29</th>\n",
       "      <td>34</td>\n",
       "      <td>1</td>\n",
       "    </tr>\n",
       "    <tr>\n",
       "      <th>30</th>\n",
       "      <td>35</td>\n",
       "      <td>1</td>\n",
       "    </tr>\n",
       "    <tr>\n",
       "      <th>31</th>\n",
       "      <td>36</td>\n",
       "      <td>1</td>\n",
       "    </tr>\n",
       "    <tr>\n",
       "      <th>32</th>\n",
       "      <td>37</td>\n",
       "      <td>2</td>\n",
       "    </tr>\n",
       "    <tr>\n",
       "      <th>33</th>\n",
       "      <td>38</td>\n",
       "      <td>1</td>\n",
       "    </tr>\n",
       "    <tr>\n",
       "      <th>34</th>\n",
       "      <td>39</td>\n",
       "      <td>1</td>\n",
       "    </tr>\n",
       "    <tr>\n",
       "      <th>35</th>\n",
       "      <td>40</td>\n",
       "      <td>1</td>\n",
       "    </tr>\n",
       "    <tr>\n",
       "      <th>36</th>\n",
       "      <td>41</td>\n",
       "      <td>2</td>\n",
       "    </tr>\n",
       "    <tr>\n",
       "      <th>37</th>\n",
       "      <td>43</td>\n",
       "      <td>1</td>\n",
       "    </tr>\n",
       "    <tr>\n",
       "      <th>38</th>\n",
       "      <td>44</td>\n",
       "      <td>1</td>\n",
       "    </tr>\n",
       "    <tr>\n",
       "      <th>39</th>\n",
       "      <td>46</td>\n",
       "      <td>1</td>\n",
       "    </tr>\n",
       "    <tr>\n",
       "      <th>40</th>\n",
       "      <td>47</td>\n",
       "      <td>3</td>\n",
       "    </tr>\n",
       "    <tr>\n",
       "      <th>41</th>\n",
       "      <td>49</td>\n",
       "      <td>1</td>\n",
       "    </tr>\n",
       "    <tr>\n",
       "      <th>42</th>\n",
       "      <td>50</td>\n",
       "      <td>2</td>\n",
       "    </tr>\n",
       "    <tr>\n",
       "      <th>43</th>\n",
       "      <td>51</td>\n",
       "      <td>1</td>\n",
       "    </tr>\n",
       "    <tr>\n",
       "      <th>44</th>\n",
       "      <td>52</td>\n",
       "      <td>1</td>\n",
       "    </tr>\n",
       "    <tr>\n",
       "      <th>45</th>\n",
       "      <td>54</td>\n",
       "      <td>1</td>\n",
       "    </tr>\n",
       "    <tr>\n",
       "      <th>46</th>\n",
       "      <td>55</td>\n",
       "      <td>1</td>\n",
       "    </tr>\n",
       "    <tr>\n",
       "      <th>47</th>\n",
       "      <td>56</td>\n",
       "      <td>1</td>\n",
       "    </tr>\n",
       "    <tr>\n",
       "      <th>48</th>\n",
       "      <td>57</td>\n",
       "      <td>1</td>\n",
       "    </tr>\n",
       "    <tr>\n",
       "      <th>49</th>\n",
       "      <td>58</td>\n",
       "      <td>1</td>\n",
       "    </tr>\n",
       "    <tr>\n",
       "      <th>50</th>\n",
       "      <td>59</td>\n",
       "      <td>1</td>\n",
       "    </tr>\n",
       "    <tr>\n",
       "      <th>51</th>\n",
       "      <td>61</td>\n",
       "      <td>1</td>\n",
       "    </tr>\n",
       "    <tr>\n",
       "      <th>52</th>\n",
       "      <td>62</td>\n",
       "      <td>1</td>\n",
       "    </tr>\n",
       "    <tr>\n",
       "      <th>53</th>\n",
       "      <td>63</td>\n",
       "      <td>2</td>\n",
       "    </tr>\n",
       "    <tr>\n",
       "      <th>54</th>\n",
       "      <td>64</td>\n",
       "      <td>1</td>\n",
       "    </tr>\n",
       "    <tr>\n",
       "      <th>55</th>\n",
       "      <td>65</td>\n",
       "      <td>1</td>\n",
       "    </tr>\n",
       "    <tr>\n",
       "      <th>56</th>\n",
       "      <td>66</td>\n",
       "      <td>2</td>\n",
       "    </tr>\n",
       "    <tr>\n",
       "      <th>57</th>\n",
       "      <td>68</td>\n",
       "      <td>2</td>\n",
       "    </tr>\n",
       "    <tr>\n",
       "      <th>58</th>\n",
       "      <td>69</td>\n",
       "      <td>1</td>\n",
       "    </tr>\n",
       "    <tr>\n",
       "      <th>59</th>\n",
       "      <td>70</td>\n",
       "      <td>4</td>\n",
       "    </tr>\n",
       "    <tr>\n",
       "      <th>60</th>\n",
       "      <td>71</td>\n",
       "      <td>1</td>\n",
       "    </tr>\n",
       "    <tr>\n",
       "      <th>61</th>\n",
       "      <td>72</td>\n",
       "      <td>2</td>\n",
       "    </tr>\n",
       "    <tr>\n",
       "      <th>62</th>\n",
       "      <td>73</td>\n",
       "      <td>1</td>\n",
       "    </tr>\n",
       "    <tr>\n",
       "      <th>63</th>\n",
       "      <td>74</td>\n",
       "      <td>1</td>\n",
       "    </tr>\n",
       "    <tr>\n",
       "      <th>64</th>\n",
       "      <td>75</td>\n",
       "      <td>1</td>\n",
       "    </tr>\n",
       "  </tbody>\n",
       "</table>\n",
       "</div>"
      ],
      "text/plain": [
       "     0  1\n",
       "0    1  3\n",
       "1    2  4\n",
       "2    3  4\n",
       "3    4  3\n",
       "4    5  4\n",
       "5    6  8\n",
       "6    7  2\n",
       "7    8  6\n",
       "8    9  3\n",
       "9   10  7\n",
       "10  11  6\n",
       "11  12  6\n",
       "12  13  3\n",
       "13  14  7\n",
       "14  15  3\n",
       "15  16  6\n",
       "16  17  8\n",
       "17  18  2\n",
       "18  19  3\n",
       "19  22  1\n",
       "20  23  1\n",
       "21  24  2\n",
       "22  25  1\n",
       "23  26  1\n",
       "24  28  1\n",
       "25  29  1\n",
       "26  30  3\n",
       "27  32  2\n",
       "28  33  1\n",
       "29  34  1\n",
       "30  35  1\n",
       "31  36  1\n",
       "32  37  2\n",
       "33  38  1\n",
       "34  39  1\n",
       "35  40  1\n",
       "36  41  2\n",
       "37  43  1\n",
       "38  44  1\n",
       "39  46  1\n",
       "40  47  3\n",
       "41  49  1\n",
       "42  50  2\n",
       "43  51  1\n",
       "44  52  1\n",
       "45  54  1\n",
       "46  55  1\n",
       "47  56  1\n",
       "48  57  1\n",
       "49  58  1\n",
       "50  59  1\n",
       "51  61  1\n",
       "52  62  1\n",
       "53  63  2\n",
       "54  64  1\n",
       "55  65  1\n",
       "56  66  2\n",
       "57  68  2\n",
       "58  69  1\n",
       "59  70  4\n",
       "60  71  1\n",
       "61  72  2\n",
       "62  73  1\n",
       "63  74  1\n",
       "64  75  1"
      ]
     },
     "execution_count": 8,
     "metadata": {},
     "output_type": "execute_result"
    }
   ],
   "source": [
    "pd.set_option('display.max_rows', None)\n",
    "pd.DataFrame(sorted(nx.degree((graph))))"
   ]
  },
  {
   "cell_type": "code",
   "execution_count": 9,
   "metadata": {},
   "outputs": [],
   "source": [
    "def visualize_graph(graph):\n",
    "    # Define the layout for the graph visualization\n",
    "    pos = nx.spring_layout(graph, seed=42)\n",
    "    \n",
    "    # Draw the nodes\n",
    "    nx.draw_networkx_nodes(graph, pos, node_color='black', node_size=500)\n",
    "    \n",
    "    # Draw the edges\n",
    "    nx.draw_networkx_edges(graph, pos, edge_color='gray')\n",
    "    \n",
    "    # Draw the labels (if the graph has node labels)\n",
    "    labels = nx.get_edge_attributes(graph, 'weight')\n",
    "    nx.draw_networkx_labels(graph, pos, font_color='white', font_size=10)\n",
    "    \n",
    "    # Show the graph\n",
    "    plt.axis('off')\n",
    "    plt.show()"
   ]
  },
  {
   "cell_type": "code",
   "execution_count": 10,
   "metadata": {},
   "outputs": [
    {
     "data": {
      "image/png": "[encoded data removed]",
      "text/plain": [
       "<Figure size 640x480 with 1 Axes>"
      ]
     },
     "metadata": {},
     "output_type": "display_data"
    }
   ],
   "source": [
    "graph = nx.from_pandas_edgelist(df, source=\"a_i\", target=\"a_j\")\n",
    "visualize_graph(graph)"
   ]
  },
  {
   "cell_type": "markdown",
   "metadata": {},
   "source": [
    "### Graph Coloring"
   ]
  },
  {
   "cell_type": "code",
   "execution_count": 11,
   "metadata": {},
   "outputs": [],
   "source": [
    "# function to calculate the number of colors needed\n",
    "def calculate_number_of_colors(graph):\n",
    "    # initialize an empty set to store the used colors\n",
    "    used_colors = set()\n",
    "\n",
    "    # iterate over each node in the graph\n",
    "    for node in graph:\n",
    "        # add the color of the node to the used_colors set\n",
    "        used_colors.add(graph[node])\n",
    "\n",
    "    # return the number of used colors\n",
    "    return len(used_colors)"
   ]
  },
  {
   "cell_type": "code",
   "execution_count": 12,
   "metadata": {},
   "outputs": [],
   "source": [
    "# greedy coloring function for the graph\n",
    "def greedy_coloring(graph):\n",
    "    # initialize an empty dictionary to store the color of each node in the graph\n",
    "    node_colors = {}\n",
    "\n",
    "    # iterate over each node in the graph\n",
    "    for node in graph:\n",
    "        # initialize an empty set to store the available colors for the current node\n",
    "        available_colors = set(range(len(graph)))\n",
    "\n",
    "        # iterate over the neighbors of the current node\n",
    "        for neighbor in graph[node]:\n",
    "            # check if the color of the neighbor is already used\n",
    "            if neighbor in node_colors:\n",
    "                # remove the color of the neighbor from the available_colors set\n",
    "                available_colors.discard(node_colors[neighbor])\n",
    "\n",
    "        # take the first color from the available_colors set and use it as the color of the current node\n",
    "        node_colors[node] = available_colors.pop()\n",
    "\n",
    "    # return the node_colors dictionary\n",
    "    return node_colors"
   ]
  },
  {
   "cell_type": "code",
   "execution_count": 13,
   "metadata": {},
   "outputs": [],
   "source": [
    "graph = nx.from_pandas_edgelist(df, source=\"a_i\", target=\"a_j\")"
   ]
  },
  {
   "cell_type": "code",
   "execution_count": 14,
   "metadata": {},
   "outputs": [],
   "source": [
    "number_of_colors = calculate_number_of_colors(greedy_coloring(graph))"
   ]
  },
  {
   "cell_type": "code",
   "execution_count": 15,
   "metadata": {},
   "outputs": [
    {
     "name": "stdout",
     "output_type": "stream",
     "text": [
      "Number of colors needed: 3\n",
      "Graph coloring: {1: 0, 3: 1, 4: 2, 70: 2, 2: 0, 6: 1, 5: 0, 33: 1, 57: 1, 61: 1, 73: 1, 8: 0, 19: 2, 37: 2, 46: 0, 58: 0, 64: 0, 7: 0, 9: 1, 72: 2, 32: 1, 41: 1, 69: 1, 40: 0, 10: 0, 22: 1, 38: 1, 43: 1, 49: 1, 54: 1, 74: 1, 75: 1, 11: 0, 24: 1, 26: 1, 36: 1, 51: 1, 52: 1, 55: 1, 12: 0, 16: 1, 30: 2, 47: 1, 63: 1, 66: 1, 68: 2, 13: 0, 23: 1, 29: 1, 59: 1, 14: 0, 34: 1, 35: 1, 44: 1, 62: 1, 65: 1, 15: 0, 50: 2, 39: 0, 17: 0, 28: 1, 56: 1, 71: 1, 18: 0, 25: 1}\n"
     ]
    }
   ],
   "source": [
    "# display the number of colors needed\n",
    "print(\"Number of colors needed:\", number_of_colors)\n",
    "\n",
    "# display the coloring of the graph\n",
    "print(\"Graph coloring:\", greedy_coloring(graph))"
   ]
  },
  {
   "cell_type": "code",
   "execution_count": 16,
   "metadata": {},
   "outputs": [],
   "source": [
    "# Welch Powell graph coloring function\n",
    "def welch_powell_coloring(graph):\n",
    "    # initialize an empty dictionary to store the color of each node in the graph\n",
    "    node_colors = {}\n",
    "\n",
    "    # sort the nodes based on their degree in descending order\n",
    "    sorted_nodes = sorted(graph, key=lambda node: len(graph[node]), reverse=True)\n",
    "\n",
    "    # initialize an empty set to store the used colors\n",
    "    used_colors = set()\n",
    "\n",
    "    # iterate over the nodes in the sorted order\n",
    "    for node in sorted_nodes:\n",
    "        # initialize an empty set to store the available colors for the current node\n",
    "        available_colors = set(range(len(graph)))\n",
    "\n",
    "        # iterate over the neighbors of the current node\n",
    "        for neighbor in graph[node]:\n",
    "            # check if the color of the neighbor is already used\n",
    "            if neighbor in node_colors:\n",
    "                # remove the color of the neighbor from the available_colors set\n",
    "                available_colors.discard(node_colors[neighbor])\n",
    "\n",
    "        # take the first color from the available_colors set and use it as the color of the current node\n",
    "        node_colors[node] = available_colors.pop()\n",
    "\n",
    "        # add the color of the current node to the used_colors set\n",
    "        used_colors.add(node_colors[node])\n",
    "\n",
    "    # return the node_colors dictionary\n",
    "    return node_colors"
   ]
  },
  {
   "cell_type": "code",
   "execution_count": 17,
   "metadata": {},
   "outputs": [],
   "source": [
    "graph = nx.from_pandas_edgelist(df, source=\"a_i\", target=\"a_j\")"
   ]
  },
  {
   "cell_type": "code",
   "execution_count": 18,
   "metadata": {},
   "outputs": [],
   "source": [
    "number_of_colors = calculate_number_of_colors(welch_powell_coloring(graph))"
   ]
  },
  {
   "cell_type": "code",
   "execution_count": 19,
   "metadata": {},
   "outputs": [
    {
     "name": "stdout",
     "output_type": "stream",
     "text": [
      "Number of colors needed: 3\n",
      "Graph coloring: {6: 0, 17: 0, 10: 0, 14: 0, 8: 1, 11: 0, 12: 0, 16: 1, 3: 0, 70: 1, 2: 2, 5: 0, 1: 2, 4: 1, 19: 2, 9: 0, 30: 2, 47: 1, 13: 0, 15: 0, 37: 2, 7: 1, 72: 2, 32: 2, 41: 2, 24: 1, 63: 1, 66: 1, 68: 2, 50: 2, 18: 0, 33: 1, 57: 1, 61: 1, 73: 1, 46: 1, 58: 1, 64: 1, 69: 0, 40: 1, 22: 1, 38: 1, 43: 1, 49: 1, 54: 1, 74: 1, 75: 1, 26: 1, 36: 1, 51: 1, 52: 1, 55: 1, 23: 1, 29: 1, 59: 1, 34: 1, 35: 1, 44: 1, 62: 1, 65: 1, 39: 0, 28: 1, 56: 1, 71: 1, 25: 1}\n"
     ]
    }
   ],
   "source": [
    "# display the number of colors needed\n",
    "print(\"Number of colors needed:\", number_of_colors)\n",
    "\n",
    "# display the coloring of the graph\n",
    "print(\"Graph coloring:\", welch_powell_coloring(graph))"
   ]
  },
  {
   "cell_type": "markdown",
   "metadata": {},
   "source": [
    "### Results"
   ]
  },
  {
   "cell_type": "code",
   "execution_count": 20,
   "metadata": {
    "id": "9SO2alUxokpi"
   },
   "outputs": [],
   "source": [
    "def plot_colored_graph(graph, node_colors):\n",
    "    # Create a copy of the graph to avoid modifying the original graph\n",
    "    colored_graph = graph.copy()\n",
    "\n",
    "    # Assign node colors based on the provided node_colors dictionary\n",
    "    for node, color in node_colors.items():\n",
    "        colored_graph.nodes[node]['color'] = color\n",
    "\n",
    "    # Get unique color values for plotting\n",
    "    unique_colors = list(set(node_colors.values()))\n",
    "\n",
    "    # Plot the colored graph\n",
    "    pos = nx.spring_layout(colored_graph, seed=42, scale=100)  # Increased scale for more distance between nodes\n",
    "    nx.draw(colored_graph, pos, with_labels=True, node_color=[unique_colors[color] for color in nx.get_node_attributes(colored_graph, 'color').values()], cmap=plt.cm.tab20, node_size=200)\n",
    "    plt.show()"
   ]
  },
  {
   "cell_type": "markdown",
   "metadata": {},
   "source": [
    "### Greedy Coloring Graph"
   ]
  },
  {
   "cell_type": "code",
   "execution_count": 21,
   "metadata": {},
   "outputs": [
    {
     "data": {
      "image/png": "[encoded data removed]",
      "text/plain": [
       "<Figure size 640x480 with 1 Axes>"
      ]
     },
     "metadata": {},
     "output_type": "display_data"
    }
   ],
   "source": [
    "graph = nx.from_pandas_edgelist(df, source=\"a_i\", target=\"a_j\")\n",
    "\n",
    "node_colors = greedy_coloring(graph)\n",
    "\n",
    "plot_colored_graph(graph, node_colors)"
   ]
  },
  {
   "cell_type": "markdown",
   "metadata": {},
   "source": [
    "### Welch Powell Coloring Graph"
   ]
  },
  {
   "cell_type": "code",
   "execution_count": 22,
   "metadata": {},
   "outputs": [
    {
     "data": {
      "image/png": "[encoded data removed]",
      "text/plain": [
       "<Figure size 640x480 with 1 Axes>"
      ]
     },
     "metadata": {},
     "output_type": "display_data"
    }
   ],
   "source": [
    "graph = nx.from_pandas_edgelist(df, source=\"a_i\", target=\"a_j\")\n",
    "\n",
    "node_colors = welch_powell_coloring(graph)\n",
    "\n",
    "plot_colored_graph(graph, node_colors)"
   ]
  },
  {
   "cell_type": "markdown",
   "metadata": {},
   "source": [
    "### Conclusion"
   ]
  },
  {
   "cell_type": "markdown",
   "metadata": {},
   "source": [
    "The difference between the greedy coloring and Welch Powell coloring results is in the assignment of colors to nodes. Both methods aim to minimize the number of colors needed to color the graph such that no adjacent nodes have the same color.\n",
    "\n",
    "In the greedy coloring result, the colors are assigned based on the order of nodes processed. The first node is assigned the first available color, and subsequent nodes are assigned the first available color that is not used by any of their neighbors.\n",
    "\n",
    "In the Welch Powell coloring result, the nodes are first sorted based on their degrees (number of neighbors) in descending order. Then, nodes are processed in this order and assigned the first available color that is not used by any of their neighbors.\n",
    "\n",
    "The difference in the coloring results can be attributed to the different ordering of nodes processed by the two algorithms. The Welch Powell algorithm tends to produce better results (i.e., fewer colors needed) compared to the greedy coloring algorithm, especially for graphs with more complex structures."
   ]
  },
  {
   "cell_type": "code",
   "execution_count": null,
   "metadata": {},
   "outputs": [],
   "source": []
  }
 ],
 "metadata": {
  "colab": {
   "provenance": []
  },
  "kernelspec": {
   "display_name": "Python 3 (ipykernel)",
   "language": "python",
   "name": "python3"
  },
  "language_info": {
   "codemirror_mode": {
    "name": "ipython",
    "version": 3
   },
   "file_extension": ".py",
   "mimetype": "text/x-python",
   "name": "python",
   "nbconvert_exporter": "python",
   "pygments_lexer": "ipython3",
   "version": "3.11.7"
  }
 },
 "nbformat": 4,
 "nbformat_minor": 4
}
